{
 "cells": [
  {
   "attachments": {},
   "cell_type": "markdown",
   "metadata": {
    "slideshow": {
     "slide_type": "slide"
    }
   },
   "source": [
    "# Using several classifiers and tuning parameters - Parameters grid\n",
    "[From official `scikit-learn` documentation](http://scikit-learn.org/stable/auto_examples/model_selection/plot_grid_search_digits.html)\n",
    "\n",
    "Adapted by Claudio Sartori\n",
    "\n",
    "Example of usage of the ***model selection*** features of `scikit-learn` and comparison of several classification methods.\n",
    "1. import a sample dataset \n",
    "1. do the usual preliminary data explorations and separate the predicting attributes from the *target* `'Exited'`\n",
    "1. define the _models_ that will be tested and prepare the _hyperparameter ranges_ for the modules\n",
    "1. set the list of *score functions* to choose from\n",
    "1. split the dataset into two parts: train and test\n",
    "1. Loop on score functions and, for each score, loop on the model labels (see details below)\n",
    "    - optimize with GridSearchCV\n",
    "    - test\n",
    "    - store the results of best model\n",
    "1. for each scoring show the best models for each classifier, sorted by decreasing performance\n",
    "1. for each scoring show the confusion matrix of the prediction given by the best model"
   ]
  },
  {
   "cell_type": "code",
   "execution_count": 1,
   "metadata": {
    "slideshow": {
     "slide_type": "slide"
    }
   },
   "outputs": [
    {
     "name": "stdout",
     "output_type": "stream",
     "text": [
      "\n",
      "@author: scikit-learn.org and Claudio Sartori\n",
      "\n"
     ]
    }
   ],
   "source": [
    "\"\"\"\n",
    "@author: scikit-learn.org and Claudio Sartori\n",
    "\"\"\"\n",
    "import warnings\n",
    "warnings.filterwarnings('ignore') # uncomment this line to suppress warnings\n",
    "\n",
    "import pandas as pd\n",
    "import numpy as np\n",
    "import matplotlib.pyplot as plt\n",
    "from sklearn import datasets\n",
    "from sklearn.model_selection import train_test_split, GridSearchCV, StratifiedKFold\n",
    "from sklearn.metrics import classification_report, ConfusionMatrixDisplay\n",
    "from sklearn.svm import SVC\n",
    "from sklearn.linear_model import Perceptron\n",
    "from sklearn.neural_network import MLPClassifier\n",
    "from sklearn.tree import DecisionTreeClassifier\n",
    "from sklearn.naive_bayes import GaussianNB\n",
    "from sklearn.neighbors import KNeighborsClassifier\n",
    "from sklearn.ensemble import AdaBoostClassifier, RandomForestClassifier\n",
    "\n",
    "print(__doc__) # print information included in the triple quotes at the beginning"
   ]
  },
  {
   "attachments": {},
   "cell_type": "markdown",
   "metadata": {},
   "source": [
    "# 0. Initial settings\n",
    "Set the random state and set the seed with `np.random.seed()`\n",
    "\n",
    "Set the test set size and the number of cross valitadion splits"
   ]
  },
  {
   "cell_type": "code",
   "execution_count": 2,
   "metadata": {},
   "outputs": [],
   "source": [
    "ts = 0.3 # test size\n",
    "random_state = 42\n",
    "np.random.seed(random_state) # this sets the random sequence. Setting only this the repeatability is guaranteed\n",
    "                             # only if we re-execute the entire notebook\n",
    "cv = 3   # number of cross-validation splits"
   ]
  },
  {
   "attachments": {},
   "cell_type": "markdown",
   "metadata": {},
   "source": [
    "# 1. Import the dataset\n",
    "\n",
    "`churn-analysis.csv` from the `data` folder"
   ]
  },
  {
   "cell_type": "code",
   "execution_count": null,
   "metadata": {},
   "outputs": [],
   "source": []
  },
  {
   "attachments": {},
   "cell_type": "markdown",
   "metadata": {},
   "source": [
    "# 2. Explore the data\n",
    "\n",
    "The output of exploration is not shown here"
   ]
  },
  {
   "cell_type": "code",
   "execution_count": null,
   "metadata": {},
   "outputs": [],
   "source": []
  },
  {
   "cell_type": "code",
   "execution_count": 3,
   "metadata": {},
   "outputs": [],
   "source": [
    "# display here some exploration output"
   ]
  },
  {
   "attachments": {},
   "cell_type": "markdown",
   "metadata": {},
   "source": [
    "# 3. Define the _models_ \n",
    "Prepare the _hyperparameter ranges_ for the modules\n",
    "\n",
    "Put everything in a dictionary, for ease of use\n",
    "\n",
    "Please read carefully these data structures and understand them\n",
    "\n",
    "It is also useful to read the API documentation of each classifier, in order to understand the hyperparameters"
   ]
  },
  {
   "cell_type": "code",
   "execution_count": 4,
   "metadata": {
    "slideshow": {
     "slide_type": "fragment"
    }
   },
   "outputs": [],
   "source": [
    "model_lbls = ['dt' # decision tree\n",
    "             ,'nb' # gaussian naive bayes\n",
    "       #      ,'lp'   # linear perceptron\n",
    "      #        ,'svc'  # support vector # deactivate if running time becomes too long\n",
    "       #      ,'knn'  # k nearest neighbours\n",
    "             ,'adb'  # adaboost\n",
    "             ,'rf'   # random forest\n",
    "            ]\n",
    "\n",
    "models = {\n",
    "    'dt': {'name': 'Decision Tree       ',\n",
    "           'estimator': DecisionTreeClassifier(random_state=random_state), \n",
    "           'param': [{'max_depth': [*range(1,20)],'class_weight':[None,'balanced']}],\n",
    "          },\n",
    "    'nb': {'name': 'Gaussian Naive Bayes',\n",
    "           'estimator': GaussianNB(),\n",
    "           'param': [{'var_smoothing': [10**exp for exp in range(-3,-13,-1)]}]\n",
    "          },\n",
    "    'lp': {'name': 'Linear Perceptron   ',\n",
    "           'estimator': Perceptron(random_state=random_state),\n",
    "           'param': [{'early_stopping': [True,False],'class_weight':[None,'balanced']}],\n",
    "          },\n",
    "    'svc':{'name': 'Support Vector      ',\n",
    "           'estimator': SVC(random_state=random_state), \n",
    "           'param': [{'kernel': ['rbf'], \n",
    "                    'gamma': [1e-3, 1e-4],\n",
    "                    'C': [1, 10, 100],\n",
    "                    },\n",
    "                    {'kernel': ['linear'],\n",
    "                     'C': [1, 10, 100],                     \n",
    "             },\n",
    "                   ]\n",
    "          },\n",
    "    'knn':{'name': 'K Nearest Neighbor ',\n",
    "           'estimator': KNeighborsClassifier(),\n",
    "           'param': [{'n_neighbors': list(range(1,7))}]\n",
    "       },\n",
    "    'adb':{'name': 'AdaBoost           ',\n",
    "           'estimator': AdaBoostClassifier(random_state=random_state),\n",
    "           'param': [{'n_estimators':[10,20,30,40,50]\n",
    "                     ,'learning_rate':[0.2,0.5,0.75,1,1.25,1.5]}]\n",
    "          },\n",
    "    'rf': {'name': 'Random forest       ',\n",
    "           'estimator': RandomForestClassifier(random_state=random_state),\n",
    "           'param': [{'max_depth': [*range(4,10)]\n",
    "                     ,'n_estimators':[*range(10,60,10)]}]\n",
    "          }\n",
    "\n",
    "}"
   ]
  },
  {
   "attachments": {},
   "cell_type": "markdown",
   "metadata": {},
   "source": [
    "# 4. Set the list of *score functions* to choose from"
   ]
  },
  {
   "cell_type": "code",
   "execution_count": null,
   "metadata": {},
   "outputs": [],
   "source": []
  },
  {
   "attachments": {},
   "cell_type": "markdown",
   "metadata": {},
   "source": [
    "# 5. Split the dataset into the train and test parts\n",
    "    - the *train* part will be used for training and cross-validation (i.e. for *development*)\n",
    "    - the *test* part will be used for test (i.e. for *evaluation*)\n",
    "    - the fraction of test data will be _ts_ (a value of your choice between 0.2 and 0.5)"
   ]
  },
  {
   "cell_type": "code",
   "execution_count": null,
   "metadata": {
    "slideshow": {
     "slide_type": "fragment"
    }
   },
   "outputs": [],
   "source": []
  },
  {
   "attachments": {},
   "cell_type": "markdown",
   "metadata": {},
   "source": [
    "# 6. Loop on scores and, for each score, loop on the model labels\n",
    "\n",
    "The function `GridSearchCV` iterates a cross validation experiment to train and test a model with different combinations of paramater values\n",
    "- for each parameter we have set before a list of values to test, `ParametersGrid` will be implicitly called to generate all the combinations\n",
    "- we choose a *score function* which will be used for the optimization\n",
    "    - e.g. `accuracy_score`, `precision_score`, `recall_score`, `f1_score`, see this [page](https://scikit-learn.org/stable/modules/model_evaluation.html) for reference\n",
    "- the output is a dataframe containing \n",
    "    - the set of parameters maximising the score \n",
    "    - the score used for optimisation and all the test scores\n",
    "\n",
    "### Steps\n",
    "\n",
    "- prepare an empty list `clfs` to store all the fitte models\n",
    "- prepare an empty DataFrame which will collect the results of the fittings with each combination of parameters\n",
    "    - dataframe columns are `'scoring','model','best_params','accuracy','precision_macro','recall_macro','f1_macro'`\n",
    "- loop"
   ]
  },
  {
   "cell_type": "code",
   "execution_count": 5,
   "metadata": {},
   "outputs": [],
   "source": [
    "clfs = []\n",
    "results = pd.DataFrame(columns=['scoring','model','best_params'#,'fit+score_time'\n",
    "                                ,'accuracy','precision_macro','recall_macro','f1_macro'])"
   ]
  },
  {
   "attachments": {},
   "cell_type": "markdown",
   "metadata": {},
   "source": [
    "### Parameters to collect\n",
    "\n",
    "`classification_report` produces a dictionary containing some classification performance measures, given the *ground truth* and the *predictions* (use the parameter `output_dict=True`)\n",
    "\n",
    "The measures are (among others):\n",
    "- `accuracy`\n",
    "- `macro avg` a dictionary containing:\n",
    "    - `precision`\n",
    "    - `recall`\n",
    "    - `f1-score`\n",
    "- ...\n"
   ]
  },
  {
   "attachments": {},
   "cell_type": "markdown",
   "metadata": {},
   "source": [
    "### Loop\n",
    "\n",
    "- repeat for all the chosen scorings\n",
    "    - repeat for all the chosen classification models\n",
    "        - store in `clf` the initialisation of `GridSearchCV` with the appropriate\n",
    "            - classification model\n",
    "            - parameters ranges\n",
    "            - scoring\n",
    "            - cross validation method `cv` (the same for all)\n",
    "        - fit `clf` with the *train* part of `X` and `y`\n",
    "        - store in `y_pred` the prediction for the *test* part of `X`\n",
    "        - append `clf` to clfs`\n",
    "        - append `y_pred` to `y_preds`\n",
    "        - store in variable `cr` the `classification_report` produced with the test part of `y` and `y_pred`\n",
    "        - store in the last row of `results` a list containing:\n",
    "            - the name of the model\n",
    "            - the `.best_params_` of `clf`\n",
    "            - a selection of the contents of cr\n",
    "                - 'accuracy', \n",
    "                - 'macro avg''precision'\n",
    "                - 'macro avg''recall'\n",
    "                - 'macro avg''f1-score'\n",
    "\n",
    "Hints: \n",
    "- cr is a multi-level dictionary, second level can be reached \n",
    "with <br> `cr['first level label']['second level label']`\n",
    "- to append a list as the last row of a dataframe you can use <br>\n",
    "`df.loc[len(df)]=[]`"
   ]
  },
  {
   "cell_type": "code",
   "execution_count": null,
   "metadata": {
    "scrolled": true,
    "slideshow": {
     "slide_type": "fragment"
    }
   },
   "outputs": [],
   "source": []
  },
  {
   "attachments": {},
   "cell_type": "markdown",
   "metadata": {},
   "source": [
    "# 7. Display\n",
    "\n",
    "For each scoring show the ranking of the models, and the confusion matrix given by the best model\n",
    "\n",
    "For each scoring:\n",
    "- set a `scoring_filter`\n",
    "- filter the results of that scoring\n",
    "- display the filtered dataframe with the `display()` function (it allows several displays of dataframes )\n",
    "\n"
   ]
  },
  {
   "cell_type": "code",
   "execution_count": null,
   "metadata": {},
   "outputs": [],
   "source": []
  },
  {
   "attachments": {},
   "cell_type": "markdown",
   "metadata": {},
   "source": [
    "# 8. Confusion matrices\n",
    "\n",
    "Use the `ConfusionMatrixDisplay` with the best model of each scoring to compare the predictions\n",
    "\n",
    "Repeat for every scoring:\n",
    "- filter the results for the current scoring\n",
    "- find the row with the best value of the scoring \n",
    "- display the confusion matrix with an appropriate title"
   ]
  },
  {
   "cell_type": "code",
   "execution_count": null,
   "metadata": {},
   "outputs": [],
   "source": []
  }
 ],
 "metadata": {
  "celltoolbar": "Slideshow",
  "kernelspec": {
   "display_name": "base",
   "language": "python",
   "name": "python3"
  },
  "language_info": {
   "codemirror_mode": {
    "name": "ipython",
    "version": 3
   },
   "file_extension": ".py",
   "mimetype": "text/x-python",
   "name": "python",
   "nbconvert_exporter": "python",
   "pygments_lexer": "ipython3",
   "version": "3.12.4"
  }
 },
 "nbformat": 4,
 "nbformat_minor": 2
}
