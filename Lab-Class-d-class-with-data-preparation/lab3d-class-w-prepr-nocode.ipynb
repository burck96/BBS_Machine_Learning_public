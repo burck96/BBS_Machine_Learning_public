{
 "cells": [
  {
   "cell_type": "markdown",
   "metadata": {
    "id": "9BTO1uw9Wwji"
   },
   "source": [
    "# Adult UCI dataset\n",
    "\n",
    "Classification with preprocessing and pipeline\n",
    "\n",
    "In this example we will use the [Adult UCI dataset](https://archive.ics.uci.edu/dataset/2/adult)\n",
    "\n",
    "The target is the `income` boolean column, specifying if the individual income si either *low* or *high*.\n",
    "\n",
    "In this example we will do simply the classification with hold-out test and no optimisation. The students are invited to expand the exercise with a GridSearchCV optimisation and several classifiers.\n",
    "\n",
    "## Technical aspects\n",
    "In `sklearn` a `Pipeline` is a sequence of operation such that the output of one operation is the input to the following. Each operation is a transformation of data.\n",
    "\n",
    "Examples of those operations are:\n",
    "- column transformations:\n",
    "  - encodings:\n",
    "    - `OneHotEncoding` to transform a categorical column into a set of `0-1` columns\n",
    "    - `OrdinalEncoding` to transform an ordinal column into a numeric one\n",
    "  - imputation of null values, such as `SimpleImputer`, this one requires a **strategy**, for example, in numbers the nulls can be filled with the `median`, in categoricals the nulls can be filled with a constant value, such as `unknown`\n",
    "  - numeric transformations, such as:\n",
    "    - `MinMaxScaler`\n",
    "    - `StandardScaler`\n",
    "- estimators\n",
    "\n",
    "In `sklearn` we have available the `ColumnTransformer` to transform groups of columns in a uniform way. It requires, for each group, a transformation pipeline and a list of attributes to be transformed with that pipeline\n",
    "\n",
    "We will then build a final pipeline composed by the preprocessing with the `ColumnTransformer` and the classifier\n",
    "\n",
    "## Workflow\n",
    "1. load the file `adults.csv` into a dataframe and explore it\n",
    "1. use as target the column `income`, separate the predicting columns and the target into `X` and `y`\n",
    "1. show the percentage of null values in each column\n",
    "1. prepare the variable `categorical_features` containing all the names of the categorical features of `X` excluding `education` (it will be ignored) and `sex` (it will be transformed separately);\n",
    "1. prepare the variable `numeric_features` containing all the names of the numeric features excluding `fnlwgt` (this is the *importance* of each observation, it can be used in the final classification report as `sample_weight`)\n",
    "1. the target should be binary, inspecting the unique values you will see that there are four distinct values due to typing errors, reduce the target to binary with an appropriate mapping (hint: you can use the `.map()` function of Pandas\n",
    "1. split into train and test\n",
    "1. prepare the column transformers for:\n",
    "  1. numeric: simple imputation with the median and standard scaling\n",
    "  1. categorical: simple imputation with nulls substituted by `unknown`\n",
    "  1. boolean: ordinal encoding\n",
    "1. prepare a pipeline with:\n",
    "  1. the column transformer as preprocessor\n",
    "  1. the `DecisionTreeClassifier`\n",
    "1. fit the pipeline to the train part\n",
    "1. predict the test and produce a classification report"
   ]
  },
  {
   "cell_type": "code",
   "execution_count": 15,
   "metadata": {
    "colab": {
     "base_uri": "https://localhost:8080/",
     "height": 449
    },
    "id": "2nGGplVMXOnf",
    "outputId": "1e052a4d-9816-4ebf-9144-7765296ef4d7"
   },
   "outputs": [],
   "source": [
    "import pandas as pd\n",
    "url = '../data/adult.csv'\n",
    "\n"
   ]
  },
  {
   "cell_type": "code",
   "execution_count": 27,
   "metadata": {
    "id": "dXgLuL1JI3FI"
   },
   "outputs": [
    {
     "data": {
      "text/plain": [
       "<bound method NDFrame.head of        age         workclass  fnlwgt  education  education-num  \\\n",
       "0       39         State-gov   77516  Bachelors             13   \n",
       "1       50  Self-emp-not-inc   83311  Bachelors             13   \n",
       "2       38           Private  215646    HS-grad              9   \n",
       "3       53           Private  234721       11th              7   \n",
       "4       28           Private  338409  Bachelors             13   \n",
       "...    ...               ...     ...        ...            ...   \n",
       "48837   39           Private  215419  Bachelors             13   \n",
       "48838   64               NaN  321403    HS-grad              9   \n",
       "48839   38           Private  374983  Bachelors             13   \n",
       "48840   44           Private   83891  Bachelors             13   \n",
       "48841   35      Self-emp-inc  182148  Bachelors             13   \n",
       "\n",
       "           marital-status         occupation    relationship  \\\n",
       "0           Never-married       Adm-clerical   Not-in-family   \n",
       "1      Married-civ-spouse    Exec-managerial         Husband   \n",
       "2                Divorced  Handlers-cleaners   Not-in-family   \n",
       "3      Married-civ-spouse  Handlers-cleaners         Husband   \n",
       "4      Married-civ-spouse     Prof-specialty            Wife   \n",
       "...                   ...                ...             ...   \n",
       "48837            Divorced     Prof-specialty   Not-in-family   \n",
       "48838             Widowed                NaN  Other-relative   \n",
       "48839  Married-civ-spouse     Prof-specialty         Husband   \n",
       "48840            Divorced       Adm-clerical       Own-child   \n",
       "48841  Married-civ-spouse    Exec-managerial         Husband   \n",
       "\n",
       "                     race     sex  capital-gain  capital-loss  hours-per-week  \\\n",
       "0                   White    Male          2174             0              40   \n",
       "1                   White    Male             0             0              13   \n",
       "2                   White    Male             0             0              40   \n",
       "3                   Black    Male             0             0              40   \n",
       "4                   Black  Female             0             0              40   \n",
       "...                   ...     ...           ...           ...             ...   \n",
       "48837               White  Female             0             0              36   \n",
       "48838               Black    Male             0             0              40   \n",
       "48839               White    Male             0             0              50   \n",
       "48840  Asian-Pac-Islander    Male          5455             0              40   \n",
       "48841               White    Male             0             0              60   \n",
       "\n",
       "      native-country  income  \n",
       "0      United-States   <=50K  \n",
       "1      United-States   <=50K  \n",
       "2      United-States   <=50K  \n",
       "3      United-States   <=50K  \n",
       "4               Cuba   <=50K  \n",
       "...              ...     ...  \n",
       "48837  United-States  <=50K.  \n",
       "48838  United-States  <=50K.  \n",
       "48839  United-States  <=50K.  \n",
       "48840  United-States  <=50K.  \n",
       "48841  United-States   >50K.  \n",
       "\n",
       "[48842 rows x 15 columns]>"
      ]
     },
     "execution_count": 27,
     "metadata": {},
     "output_type": "execute_result"
    }
   ],
   "source": [
    "url = '../data/adults.csv'\n",
    "df = pd.read_csv(url)\n",
    "df.head"
   ]
  },
  {
   "cell_type": "code",
   "execution_count": 28,
   "metadata": {
    "colab": {
     "base_uri": "https://localhost:8080/"
    },
    "id": "L64z3nLSXdNG",
    "outputId": "a5d60397-c6e0-48a4-b817-637b38759d15"
   },
   "outputs": [
    {
     "name": "stdout",
     "output_type": "stream",
     "text": [
      "Feature (X):\n",
      "   age         workclass  fnlwgt  education  education-num  \\\n",
      "0   39         State-gov   77516  Bachelors             13   \n",
      "1   50  Self-emp-not-inc   83311  Bachelors             13   \n",
      "2   38           Private  215646    HS-grad              9   \n",
      "3   53           Private  234721       11th              7   \n",
      "4   28           Private  338409  Bachelors             13   \n",
      "\n",
      "       marital-status         occupation   relationship   race     sex  \\\n",
      "0       Never-married       Adm-clerical  Not-in-family  White    Male   \n",
      "1  Married-civ-spouse    Exec-managerial        Husband  White    Male   \n",
      "2            Divorced  Handlers-cleaners  Not-in-family  White    Male   \n",
      "3  Married-civ-spouse  Handlers-cleaners        Husband  Black    Male   \n",
      "4  Married-civ-spouse     Prof-specialty           Wife  Black  Female   \n",
      "\n",
      "   capital-gain  capital-loss  hours-per-week native-country  \n",
      "0          2174             0              40  United-States  \n",
      "1             0             0              13  United-States  \n",
      "2             0             0              40  United-States  \n",
      "3             0             0              40  United-States  \n",
      "4             0             0              40           Cuba  \n",
      "\n",
      "Target (y):\n",
      "0    <=50K\n",
      "1    <=50K\n",
      "2    <=50K\n",
      "3    <=50K\n",
      "4    <=50K\n",
      "Name: income, dtype: object\n"
     ]
    }
   ],
   "source": [
    "\n",
    "X = df.drop(columns=['income'])  \n",
    "y = df['income']  \n",
    "\n",
    "\n",
    "print(\"Feature (X):\")\n",
    "print(X.head())\n",
    "print(\"\\nTarget (y):\")\n",
    "print(y.head())\n",
    "\n",
    "\n",
    "\n"
   ]
  },
  {
   "cell_type": "code",
   "execution_count": 29,
   "metadata": {
    "id": "xBQYDQMGZzmi"
   },
   "outputs": [],
   "source": [
    "import numpy as np\n",
    "\n",
    "from sklearn.compose import ColumnTransformer\n",
    "from sklearn.datasets import fetch_openml\n",
    "from sklearn.feature_selection import SelectPercentile, chi2\n",
    "from sklearn.impute import SimpleImputer\n",
    "from sklearn.linear_model import LogisticRegression\n",
    "from sklearn.tree import DecisionTreeClassifier\n",
    "from sklearn.model_selection import RandomizedSearchCV, train_test_split\n",
    "from sklearn.pipeline import Pipeline\n",
    "from sklearn.preprocessing import OneHotEncoder, StandardScaler, OrdinalEncoder\n",
    "\n",
    "random_state = 346\n",
    "np.random.seed(random_state)"
   ]
  },
  {
   "cell_type": "code",
   "execution_count": 32,
   "metadata": {
    "colab": {
     "base_uri": "https://localhost:8080/"
    },
    "id": "hjpG7Htrbxbp",
    "outputId": "a3a2f8a3-dea1-4430-b1da-bf6fc4d0c257"
   },
   "outputs": [
    {
     "name": "stdout",
     "output_type": "stream",
     "text": [
      "Percentuale di valori nulli per ogni colonna:\n",
      "age               0.000000\n",
      "workclass         1.971664\n",
      "fnlwgt            0.000000\n",
      "education         0.000000\n",
      "education-num     0.000000\n",
      "marital-status    0.000000\n",
      "occupation        1.977806\n",
      "relationship      0.000000\n",
      "race              0.000000\n",
      "sex               0.000000\n",
      "capital-gain      0.000000\n",
      "capital-loss      0.000000\n",
      "hours-per-week    0.000000\n",
      "native-country    0.560993\n",
      "income            0.000000\n",
      "dtype: float64\n"
     ]
    }
   ],
   "source": [
    "# Percentuali di valori nulli\n",
    "null_percentages = df.isnull().mean() * 100\n",
    "print(\"Percentuale di valori nulli per ogni colonna:\")\n",
    "print(null_percentages)\n"
   ]
  },
  {
   "cell_type": "code",
   "execution_count": 33,
   "metadata": {
    "colab": {
     "base_uri": "https://localhost:8080/"
    },
    "id": "-fypYPJFdIMR",
    "outputId": "a5051602-2abc-4558-aa48-b7631c306973"
   },
   "outputs": [
    {
     "name": "stdout",
     "output_type": "stream",
     "text": [
      "\n",
      "Colonne categoriali (escludendo 'education' e 'sex'):\n",
      "['marital-status', 'native-country', 'occupation', 'race', 'relationship', 'workclass']\n"
     ]
    }
   ],
   "source": [
    "# Preparare la variabile categorical_features\n",
    "categorical_features = X.select_dtypes(include=['object']).columns.difference(['education', 'sex'])\n",
    "print(\"\\nColonne categoriali (escludendo 'education' e 'sex'):\")\n",
    "print(categorical_features.tolist())"
   ]
  },
  {
   "cell_type": "code",
   "execution_count": 34,
   "metadata": {
    "colab": {
     "base_uri": "https://localhost:8080/"
    },
    "id": "bp0k0We1mJij",
    "outputId": "be6d2285-0168-4f8e-f757-809b4d49172a"
   },
   "outputs": [
    {
     "name": "stdout",
     "output_type": "stream",
     "text": [
      "Colonne numeriche (escludendo 'fnlwgt'):\n",
      "['age', 'capital-gain', 'capital-loss', 'education-num', 'hours-per-week']\n"
     ]
    }
   ],
   "source": [
    "# Preparare la variabile numeric_features\n",
    "numeric_features = X.select_dtypes(include=['number']).columns.difference(['fnlwgt'])\n",
    "print(\"Colonne numeriche (escludendo 'fnlwgt'):\")\n",
    "print(numeric_features.tolist())"
   ]
  },
  {
   "cell_type": "markdown",
   "metadata": {
    "id": "4uGliax4VJJr"
   },
   "source": [
    "### Here you should prepare the numeric, boolean and categorical transformers\n",
    "\n",
    "`your_transformer = Pipeline(\n",
    "  steps = [\n",
    "              (\"step name\", transformer )\n",
    "            , (\"step name\", transformer)\n",
    "          ]\n",
    ")`"
   ]
  },
  {
   "cell_type": "code",
   "execution_count": 18,
   "metadata": {
    "id": "IOyKfEXyY7bf"
   },
   "outputs": [
    {
     "ename": "SyntaxError",
     "evalue": "invalid syntax (1603905297.py, line 7)",
     "output_type": "error",
     "traceback": [
      "\u001b[1;36m  Cell \u001b[1;32mIn[18], line 7\u001b[1;36m\u001b[0m\n\u001b[1;33m    boolean_transformer = #........\u001b[0m\n\u001b[1;37m                          ^\u001b[0m\n\u001b[1;31mSyntaxError\u001b[0m\u001b[1;31m:\u001b[0m invalid syntax\n"
     ]
    }
   ],
   "source": [
    "numeric_transformer = Pipeline(\n",
    "    steps=[\n",
    "        (\"imputer\", SimpleImputer(strategy=\"median\"))\n",
    "        , (\"scaler\", StandardScaler())]\n",
    ")\n",
    "\n",
    "boolean_transformer = #........\n",
    "\n",
    "categorical_transformer = #.........."
   ]
  },
  {
   "cell_type": "markdown",
   "metadata": {
    "id": "GW0SW6aNWG0i"
   },
   "source": [
    "### Here you collect the transformers in the `ColumnTransformer`"
   ]
  },
  {
   "cell_type": "code",
   "execution_count": 10,
   "metadata": {
    "id": "43w8tAtYWTZb"
   },
   "outputs": [],
   "source": [
    "# preprocessor = ColumnTransformer(\n",
    "#     transformers=[\n",
    "#           (\"transformer name\", transformer, list_of_features)\n",
    "#         , (\"transformer name\", transformer, list_of_features)\n",
    "#         , (\"transformer name\", transformer, list_of_features)\n",
    "#     ]\n",
    "#     , sparse_threshold=0 # this prevents internal representation in sparse matrices\n",
    "#                          # it is useful to speed operations\n",
    "# )"
   ]
  },
  {
   "cell_type": "code",
   "execution_count": 11,
   "metadata": {
    "id": "Vx0UmXA4WFts"
   },
   "outputs": [],
   "source": []
  },
  {
   "cell_type": "markdown",
   "metadata": {
    "id": "fBzRGuUvW8JY"
   },
   "source": [
    "### Final operations\n",
    "\n",
    "- prepare the final pipeline composed by the preprocessor and the classifier\n",
    "- do the train/test split\n",
    "- fit the pipeline to the train part\n",
    "- predict the test part\n",
    "- produce the classification report"
   ]
  },
  {
   "cell_type": "code",
   "execution_count": 12,
   "metadata": {
    "id": "KBV-VKNFYA2D"
   },
   "outputs": [],
   "source": [
    "# clf = Pipeline(\n",
    "#     steps=[\n",
    "#           (\"step name\", component)\n",
    "#         , (\"step name\", component)\n",
    "#         ]\n",
    "# )"
   ]
  },
  {
   "cell_type": "code",
   "execution_count": 15,
   "metadata": {
    "id": "ECXXBYg8fl7-"
   },
   "outputs": [],
   "source": []
  },
  {
   "cell_type": "markdown",
   "metadata": {
    "id": "JBndXUxGYi4i"
   },
   "source": [
    "In the classification report use the parameter `sample_weight` passing the column `fnlwgt`"
   ]
  },
  {
   "cell_type": "code",
   "execution_count": 14,
   "metadata": {
    "colab": {
     "base_uri": "https://localhost:8080/"
    },
    "id": "ek-naqZrqoxe",
    "outputId": "b5b7fc3d-cc05-4dad-91bf-7f6203b2d415"
   },
   "outputs": [
    {
     "name": "stdout",
     "output_type": "stream",
     "text": [
      "              precision    recall  f1-score   support\n",
      "\n",
      "       <=50K       0.88      0.89      0.89 1404639602.0\n",
      "        >50K       0.64      0.60      0.62 443124458.0\n",
      "\n",
      "    accuracy                           0.82 1847764060.0\n",
      "   macro avg       0.76      0.75      0.75 1847764060.0\n",
      "weighted avg       0.82      0.82      0.82 1847764060.0\n",
      "\n"
     ]
    }
   ],
   "source": []
  },
  {
   "cell_type": "code",
   "execution_count": 14,
   "metadata": {
    "id": "ZLmyVN6uBmU2"
   },
   "outputs": [],
   "source": []
  }
 ],
 "metadata": {
  "colab": {
   "provenance": []
  },
  "kernelspec": {
   "display_name": "Python 3",
   "language": "python",
   "name": "python3"
  },
  "language_info": {
   "codemirror_mode": {
    "name": "ipython",
    "version": 3
   },
   "file_extension": ".py",
   "mimetype": "text/x-python",
   "name": "python",
   "nbconvert_exporter": "python",
   "pygments_lexer": "ipython3",
   "version": "3.11.9"
  }
 },
 "nbformat": 4,
 "nbformat_minor": 1
}
